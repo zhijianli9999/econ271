{
  "cells": [
    {
      "cell_type": "markdown",
      "metadata": {
        "id": "ZwPOP1yLIxe8"
      },
      "source": [
        "# Estimation\n",
        "\n",
        "The first section of this notebook will go through our thought process, steps, and execution of demand and supply estimation.\n",
        "\n",
        "## Demand-Side\n",
        "\n",
        "Assume for simplicity that $a$ and $b$ are known. In addition, set a consumer population $P$ and, using observed quantities, determine market shares $s_0, s_1, \\ldots, s_N$ for products $j = 1,\\ldots,N$ and outside option $j=0$.\n",
        "\n",
        "In the vertical model, market shares are determined by cutoffs between neighboring goods, where ordering is based on quality $\\delta_j$. Quality is unknown initially, but sorting by price should yield the same ordering (since no one will buy a product with a higher price tag and a lower quality than another product). \n",
        "\n",
        "Thus, assuming products are ordered by increasing price, the market share of product $j$ is given by the probability of a consumer's taste falling between the points at which $\\nu\\delta_j - p_j = \\nu\\delta_{j+1} - p_{j+1}$ and $\\nu\\delta_j - p_j = \\nu\\delta_{j-1} - p_{j-1}$. These cutoff points, which we call $\\Delta_j$ and $\\Delta_{j+1}$, are given by $$\\Delta_j = \\frac{p_{j} - p_{j-1}}{\\delta_{j} - \\delta_{j-1}}$$\n",
        "\n",
        "Then, given the CDF $F(\\cdot)$ of $\\nu \\sim \\text{Unif}[a,b]$, all $\\Delta$'s must satisfy the market share equations\n",
        "\n",
        "$$s_j = F(\\Delta_{j+1}) - F(\\Delta_j)$$\n",
        "\n",
        "where $\\Delta_0 = -\\infty$ and $\\Delta_{N+1} = \\infty$. Then, $\\Delta_j$ can be recursively determined by\n",
        "\n",
        "$$\\Delta_j = F^{-1}(F(\\Delta_{j+1}) - s_j)$$\n",
        "\n",
        "starting from $\\Delta_N = (b-a)(1-s_N)$. By expressing $\\delta_j$ in terms of $\\Delta_j$, we can recursively recover each $\\delta_j$ using the initial conditions $\\delta_0 = 0$ and $p_0 = 0$:\n",
        "\n",
        "$$\\delta_j = \\delta_{j-1} + \\frac{p_j - p_{j-1}}{\\Delta_j}$$\n",
        "\n",
        "As a result, unobservable quality enters linearly and one can run a regression to determine $\\beta$ from $\\xi_j = \\delta_j - x_j'\\beta$.\n",
        "\n",
        "The nature of this regression depends on our assumptions on $\\xi_j$. If $\\mathbb{E}[\\xi_j|x_j, p]$ is assumed, then OLS suffices. We cannot make such an assumption here, so we use some characteristics of competing products, $x_{-j}$, as instruments and run IV GMM to estimate $\\beta$.\n",
        "\n",
        "Due to the small number of unique values observed for horsepower and air conditioning, the stats program encountered a singular matrix error when these characteristics were part of the instruments. Weight admits a greater diversity of values, so our instrument is a $N-1$ dimensional vector of the weights of competitor's cars.\n",
        "\n",
        "In our estimation procedure below, we assume that $a = 0$ and $b = 1$. Additionally, Bresnahan's observed total quantity sold is similar to ours, so we would expect the consumer base to be approximately the same (so that $P = 20000000$)."
      ]
    },
    {
      "cell_type": "code",
      "execution_count": 382,
      "metadata": {
        "colab": {
          "base_uri": "https://localhost:8080/",
          "height": 463
        },
        "id": "oUF9zGlQIttA",
        "outputId": "9d00ca66-1b66-429d-e827-b7750f321138"
      },
      "outputs": [
        {
          "data": {
            "text/html": [
              "<table class=\"simpletable\">\n",
              "<caption>LinearIVGMM Results</caption>\n",
              "<tr>\n",
              "  <th>Dep. Variable:</th>            <td>y</td>        <th>  Hansen J:          </th> <td>   2658.</td>\n",
              "</tr>\n",
              "<tr>\n",
              "  <th>Model:</th>               <td>LinearIVGMM</td>   <th>  Prob (Hansen J):   </th>  <td>  0.00</td> \n",
              "</tr>\n",
              "<tr>\n",
              "  <th>Method:</th>                  <td>GMM</td>       <th>                     </th>     <td> </td>   \n",
              "</tr>\n",
              "<tr>\n",
              "  <th>Date:</th>             <td>Tue, 07 Jun 2022</td> <th>                     </th>     <td> </td>   \n",
              "</tr>\n",
              "<tr>\n",
              "  <th>Time:</th>                 <td>21:32:22</td>     <th>                     </th>     <td> </td>   \n",
              "</tr>\n",
              "<tr>\n",
              "  <th>No. Observations:</th>      <td>   131</td>      <th>                     </th>     <td> </td>   \n",
              "</tr>\n",
              "</table>\n",
              "<table class=\"simpletable\">\n",
              "<tr>\n",
              "          <td></td>            <th>coef</th>     <th>std err</th>      <th>z</th>      <th>P>|z|</th>  <th>[0.025</th>    <th>0.975]</th>  \n",
              "</tr>\n",
              "<tr>\n",
              "  <th>Air Conditioning</th> <td> 4650.5815</td> <td>  225.005</td> <td>   20.669</td> <td> 0.000</td> <td> 4209.580</td> <td> 5091.583</td>\n",
              "</tr>\n",
              "<tr>\n",
              "  <th>Weight of Car</th>    <td>    0.0530</td> <td>    0.061</td> <td>    0.873</td> <td> 0.383</td> <td>   -0.066</td> <td>    0.172</td>\n",
              "</tr>\n",
              "<tr>\n",
              "  <th>Horsepower</th>       <td>  154.6925</td> <td>    1.355</td> <td>  114.195</td> <td> 0.000</td> <td>  152.037</td> <td>  157.348</td>\n",
              "</tr>\n",
              "</table>"
            ],
            "text/plain": [
              "<class 'statsmodels.iolib.summary.Summary'>\n",
              "\"\"\"\n",
              "                             LinearIVGMM Results                              \n",
              "==============================================================================\n",
              "Dep. Variable:                      y   Hansen J:                        2658.\n",
              "Model:                    LinearIVGMM   Prob (Hansen J):                  0.00\n",
              "Method:                           GMM                                         \n",
              "Date:                Tue, 07 Jun 2022                                         \n",
              "Time:                        21:32:22                                         \n",
              "No. Observations:                 131                                         \n",
              "====================================================================================\n",
              "                       coef    std err          z      P>|z|      [0.025      0.975]\n",
              "------------------------------------------------------------------------------------\n",
              "Air Conditioning  4650.5815    225.005     20.669      0.000    4209.580    5091.583\n",
              "Weight of Car        0.0530      0.061      0.873      0.383      -0.066       0.172\n",
              "Horsepower         154.6925      1.355    114.195      0.000     152.037     157.348\n",
              "====================================================================================\n",
              "\"\"\""
            ]
          },
          "execution_count": 382,
          "metadata": {},
          "output_type": "execute_result"
        }
      ],
      "source": [
        "import pandas as pd\n",
        "import numpy as np\n",
        "import statsmodels.sandbox.regression.gmm as stats\n",
        "\n",
        "autodata = pd.read_csv('./sample_data/autodata.csv')\n",
        "\n",
        "N = len(autodata)\n",
        "\n",
        "# Bresnahan 1987 finds a similar volume of cars sold\n",
        "# compared to our data - thus his consumer base size is\n",
        "# reasonable for our usage\n",
        "P = 20000000 \n",
        "\n",
        "a,b = 0, 1 # taste distribution parameters\n",
        "Delta = np.zeros((N, 1)) # cutoffs\n",
        "delta = np.zeros((N, 1)) # mean utility\n",
        "\n",
        "autodata = autodata.sort_values(by=['Price($1000) (list price)']).reset_index(drop=True) # order by \"quality\"\n",
        "shares = autodata['Quantity'] / P\n",
        "prices = autodata['Price($1000) (list price)']\n",
        "x = autodata[['Air Conditioning', 'Weight of Car', 'Horsepower']]\n",
        "\n",
        "\n",
        "# Calculate cutoffs\n",
        "Delta[N-1] = (b-a)*(1-shares[N-1])\n",
        "\n",
        "for j in range(N-2, -1, -1):\n",
        "  Delta[j] = (b-a)*(max(0, min(Delta[j+1], 1)) - shares[j])\n",
        "\n",
        "# Recover mean utility\n",
        "delta[0] = prices[0] / Delta[0]\n",
        "\n",
        "for j in range(1, N):\n",
        "  delta[j] = delta[j-1] + (prices[j] - prices[j-1]) / Delta[j]\n",
        "\n",
        "instruments = np.zeros((N, N-1))\n",
        "\n",
        "for i in range(N):\n",
        "  d = autodata.drop(i)\n",
        "  instruments[i,:] = np.array(d[['Weight of Car']]).reshape((N-1,))\n",
        "\n",
        "iv = stats.LinearIVGMM(delta, x, instruments)\n",
        "reg = iv.fit()\n",
        "reg.summary()"
      ]
    },
    {
      "cell_type": "markdown",
      "metadata": {},
      "source": [
        "## Supply Side\n",
        "\n",
        "From equation (29) in Berry (1994), the first order condition under a (product-level) Nash equilibrium takes the form\n",
        "\n",
        "$$\n",
        "\\begin{align*}\n",
        "p_j &= x_j\\gamma + \\lambda q_j + \\frac{s_j}{  \\partial s_j/ \\partial \\delta _j} + \\omega _j,\n",
        "\\end{align*}\n",
        "$$\n",
        "\n"
      ]
    },
    {
      "cell_type": "code",
      "execution_count": 383,
      "metadata": {},
      "outputs": [],
      "source": [
        "autodata = autodata.rename(columns={\"Price($1000) (list price)\": \"Price\", \"Firm ID (there is a different number for each firm)\": \"Firm ID\"})"
      ]
    },
    {
      "cell_type": "markdown",
      "metadata": {},
      "source": [
        "\n",
        "#### (i) Marginal cost pricing\n",
        "\n",
        "If price is set at marginal cost, \n",
        "$$\n",
        "p_j = mc_j = x_j\\gamma + \\lambda q_j +  \\omega _j\n",
        "$$\n",
        "\n",
        "Since we observe price, we can estimate the parameters directly. Here, $\\omega$ is uncorrelated with $x$ but possibly correlated with $q$. However, we can use the characteristics of other products, $x_{-j}$, as an instrument for $q_j$, to estimate $\\gamma$ and $\\lambda$ via 2SLS."
      ]
    },
    {
      "cell_type": "code",
      "execution_count": 384,
      "metadata": {},
      "outputs": [
        {
          "data": {
            "text/html": [
              "<table class=\"simpletable\">\n",
              "<caption>LinearIVGMM Results</caption>\n",
              "<tr>\n",
              "  <th>Dep. Variable:</th>    <td>Price($1000) (list price)</td> <th>  Hansen J:          </th> <td>   2135.</td>\n",
              "</tr>\n",
              "<tr>\n",
              "  <th>Model:</th>                   <td>LinearIVGMM</td>        <th>  Prob (Hansen J):   </th>  <td>  0.00</td> \n",
              "</tr>\n",
              "<tr>\n",
              "  <th>Method:</th>                      <td>GMM</td>            <th>                     </th>     <td> </td>   \n",
              "</tr>\n",
              "<tr>\n",
              "  <th>Date:</th>                 <td>Tue, 07 Jun 2022</td>      <th>                     </th>     <td> </td>   \n",
              "</tr>\n",
              "<tr>\n",
              "  <th>Time:</th>                     <td>21:32:26</td>          <th>                     </th>     <td> </td>   \n",
              "</tr>\n",
              "<tr>\n",
              "  <th>No. Observations:</th>          <td>   131</td>           <th>                     </th>     <td> </td>   \n",
              "</tr>\n",
              "</table>\n",
              "<table class=\"simpletable\">\n",
              "<tr>\n",
              "   <td></td>     <th>coef</th>     <th>std err</th>      <th>z</th>      <th>P>|z|</th>  <th>[0.025</th>    <th>0.975]</th>  \n",
              "</tr>\n",
              "<tr>\n",
              "  <th>x1</th> <td> 8604.8131</td> <td>  114.623</td> <td>   75.071</td> <td> 0.000</td> <td> 8380.157</td> <td> 8829.469</td>\n",
              "</tr>\n",
              "<tr>\n",
              "  <th>x2</th> <td>   -1.1405</td> <td>    0.124</td> <td>   -9.168</td> <td> 0.000</td> <td>   -1.384</td> <td>   -0.897</td>\n",
              "</tr>\n",
              "<tr>\n",
              "  <th>x3</th> <td>  134.1064</td> <td>    3.166</td> <td>   42.353</td> <td> 0.000</td> <td>  127.900</td> <td>  140.312</td>\n",
              "</tr>\n",
              "<tr>\n",
              "  <th>x4</th> <td>   -0.0045</td> <td>    0.001</td> <td>   -8.375</td> <td> 0.000</td> <td>   -0.006</td> <td>   -0.003</td>\n",
              "</tr>\n",
              "</table>"
            ],
            "text/plain": [
              "<class 'statsmodels.iolib.summary.Summary'>\n",
              "\"\"\"\n",
              "                                 LinearIVGMM Results                                 \n",
              "=====================================================================================\n",
              "Dep. Variable:     Price($1000) (list price)   Hansen J:                        2135.\n",
              "Model:                           LinearIVGMM   Prob (Hansen J):                  0.00\n",
              "Method:                                  GMM                                         \n",
              "Date:                       Tue, 07 Jun 2022                                         \n",
              "Time:                               21:32:26                                         \n",
              "No. Observations:                        131                                         \n",
              "==============================================================================\n",
              "                 coef    std err          z      P>|z|      [0.025      0.975]\n",
              "------------------------------------------------------------------------------\n",
              "x1          8604.8131    114.623     75.071      0.000    8380.157    8829.469\n",
              "x2            -1.1405      0.124     -9.168      0.000      -1.384      -0.897\n",
              "x3           134.1064      3.166     42.353      0.000     127.900     140.312\n",
              "x4            -0.0045      0.001     -8.375      0.000      -0.006      -0.003\n",
              "==============================================================================\n",
              "\"\"\""
            ]
          },
          "execution_count": 384,
          "metadata": {},
          "output_type": "execute_result"
        }
      ],
      "source": [
        "modivp2 = stats.LinearIVGMM(prices, np.column_stack((x, autodata['Quantity'])), instrument= instruments).fit()\n",
        "modivp2.summary()"
      ]
    },
    {
      "cell_type": "markdown",
      "metadata": {},
      "source": [
        "### (ii-iii) Nash pricing and perfect collution\n",
        "\n",
        "Following Bresnahan (1987), the pricing behavior under collusion is \n",
        "\n",
        "$$\n",
        "0 = s_j + (p_j-mc_j)\\frac{\\partial s_j}{\\partial p _j} + H_{j, j+1} (p_{j+1}-mc_{j+1})\\frac{\\partial s_{j+1}}{\\partial p _j} + H_{j, j-1} (p_{j-1}-mc_{j-1})\\frac{\\partial s_{j-1}}{\\partial p _j} \n",
        "$$\n",
        "\n",
        "Here, $H_{j, k}$ is the indicator for product $j$ and $k$ jointly maximizing profit. Under the assumption of multi-product Nash pricing, this indicator turns on if the two products are made by the same firm. Under perfect collusion, the indicator equals one for all product pairs."
      ]
    },
    {
      "cell_type": "markdown",
      "metadata": {},
      "source": [
        "The price elasticities under the vertical model is\n",
        "\n",
        "$$\n",
        "\\begin{align*}\n",
        "\n",
        "\\frac{\\partial s_j}{\\partial p _j}& = -[\\frac{f(\\Delta_{j+1})}{\\delta_{j+1}-\\delta_{j}} + \\frac{f(\\Delta_{j})}{\\delta_{j}-\\delta_{j-1}}]\\\\\n",
        "\n",
        "\\end{align*}\n",
        "$$\n",
        "And since $F \\sim \\text{Unif}[0,1]$ by assumption, we can write \n",
        "\n",
        "$$\n",
        "\\begin{align*}\n",
        "\n",
        "\\frac{\\partial s_j}{\\partial p_j}& = -[\\frac{1}{\\delta_{j+1}-\\delta_{j}} + \\frac{1}{\\delta_{j}-\\delta_{j-1}}]\\\\\n",
        "\\frac{\\partial s_{j-1}}{\\partial p_j}& = \\frac{1}{\\delta_{j}-\\delta_{j-1}}\\\\\n",
        "\\frac{\\partial s_{j+1}}{\\partial p _j}& = \\frac{1}{\\delta_{j+1}-\\delta_{j}} \\\\\n",
        "\n",
        "\\end{align*}\n",
        "$$"
      ]
    },
    {
      "cell_type": "markdown",
      "metadata": {},
      "source": [
        "Note: cars with the same price in the data will have the same mean utility and an infinite price elasticity. We add a small pertubation to the $\\delta$ term to get around this."
      ]
    },
    {
      "cell_type": "code",
      "execution_count": 392,
      "metadata": {},
      "outputs": [],
      "source": [
        "for i in range(len(delta)-1):\n",
        "    if delta[i] == delta[i+1]:\n",
        "        delta[i] -= 0.001\n",
        "delta_0 = np.concatenate(([[0]],delta,[[np.inf]]))\n",
        "dsdp = [-(1/(delta_0[j+1]-delta_0[j]) + 1/(delta_0[j]-delta_0[j-1])) for j in range(1,N+1)]\n",
        "dsmdp = [1/(delta_0[j]-delta_0[j-1]) for j in range(1,N+1)]\n",
        "dspdp = [1/(delta_0[j+1]-delta_0[j])for j in range(1,N+1)]\n",
        "\n",
        "Hmat = np.array([[autodata['Firm ID'][i]==autodata['Firm ID'][j] for i in range(N)] for j in range(N)], np.int32)"
      ]
    },
    {
      "cell_type": "markdown",
      "metadata": {},
      "source": [
        "From the FOC we can get the following equation, where $\\tilde{\\omega}_j$ is a transformation of $(\\omega_j, \\omega_{j+1}, \\omega_{j-1})$ that is correlated with the quantities. We estimate by 2SLS $\\gamma$ and $\\lambda$, again with $x_{-j}$ as instruments\n",
        "$$\n",
        "% \\frac{\\partial s_j}{\\partial p _j}p_j = \\frac{\\partial s_j}{\\partial p _j}(x_j\\gamma + \\lambda q_j) - s_j - H_{j, j+1}(p_{j+1}-x_{j+1}\\gamma - \\lambda q_{j+1})\\frac{\\partial s_{j+1}}{\\partial p _j} - H_{j, j-1}(p_{j-1}-x_{j-1}\\gamma - \\lambda q_{j-1})\\frac{\\partial s_{j-1}}{\\partial p _j}\\\\\n",
        "\\frac{\\partial s_j}{\\partial p _j}p_j +s_j + H_{j, j+1}p_{j+1}\\frac{\\partial s_{j+1}}{\\partial p _j} + H_{j, j-1}p_{j-1}\\frac{\\partial s_{j-1}}{\\partial p _j}= \\gamma[\\frac{\\partial s_j}{\\partial p _j}x_j + H_{j, j+1}x_{j+1}\\frac{\\partial s_{j+1}}{\\partial p _j} + H_{j, j-1}x_{j-1}\\frac{\\partial s_{j-1}}{\\partial p _j}]  + \\lambda[\\frac{\\partial s_j}{\\partial p _j}q_j + H_{j, j+1}q_{j+1}\\frac{\\partial s_{j+1}}{\\partial p _j} + H_{j, j-1}q_{j-1}\\frac{\\partial s_{j-1}}{\\partial p _j}] + \\tilde{\\omega}_j\n",
        "\n",
        "$$"
      ]
    },
    {
      "cell_type": "code",
      "execution_count": 388,
      "metadata": {},
      "outputs": [],
      "source": [
        "xmat = np.array(x)\n",
        "quantities = np.array(autodata['Quantity'])\n",
        "lhs = np.zeros(N)\n",
        "gammaterm = np.zeros((N,3))\n",
        "lambdaterm = np.zeros(N)\n",
        "for j in range(N): \n",
        "    if j==0:\n",
        "        lhs[j] = dsdp[j]*prices[j] + Hmat[j,j+1]*prices[j+1]*dspdp[j] \n",
        "        gammaterm[j,:] = dsdp[j]*xmat[j,:] + Hmat[j,j+1]*xmat[j+1,:]*dspdp[j] \n",
        "        lambdaterm[j] = dsdp[j]*quantities[j] + Hmat[j,j+1]*quantities[j+1]*dspdp[j]\n",
        "    elif j==N-1:\n",
        "        lhs[j] = dsdp[j]*prices[j] +  Hmat[j,j-1]*prices[j-1]*dsmdp[j]\n",
        "        gammaterm[j,:] = dsdp[j]*xmat[j,:] +  Hmat[j,j-1]*xmat[j-1,:]*dsmdp[j]\n",
        "        lambdaterm[j] = dsdp[j]*quantities[j] + Hmat[j,j-1]*quantities[j-1]*dsmdp[j]\n",
        "    else:\n",
        "        lhs[j] = dsdp[j]*prices[j] + Hmat[j,j+1]*prices[j+1]*dspdp[j] +  Hmat[j,j-1]*prices[j-1]*dsmdp[j]\n",
        "        gammaterm[j,:] = dsdp[j]*xmat[j,:] + Hmat[j,j+1]*xmat[j+1,:]*dspdp[j] +  Hmat[j,j-1]*xmat[j-1,:]*dsmdp[j]\n",
        "        lambdaterm[j] = dsdp[j]*quantities[j] + Hmat[j,j+1]*quantities[j+1]*dspdp[j] +  Hmat[j,j-1]*quantities[j-1]*dsmdp[j]\n",
        "        \n"
      ]
    },
    {
      "cell_type": "code",
      "execution_count": 389,
      "metadata": {},
      "outputs": [
        {
          "data": {
            "text/html": [
              "<table class=\"simpletable\">\n",
              "<caption>LinearIVGMM Results</caption>\n",
              "<tr>\n",
              "  <th>Dep. Variable:</th>            <td>y</td>        <th>  Hansen J:          </th> <td>   94.49</td>\n",
              "</tr>\n",
              "<tr>\n",
              "  <th>Model:</th>               <td>LinearIVGMM</td>   <th>  Prob (Hansen J):   </th>  <td> 0.984</td> \n",
              "</tr>\n",
              "<tr>\n",
              "  <th>Method:</th>                  <td>GMM</td>       <th>                     </th>     <td> </td>   \n",
              "</tr>\n",
              "<tr>\n",
              "  <th>Date:</th>             <td>Tue, 07 Jun 2022</td> <th>                     </th>     <td> </td>   \n",
              "</tr>\n",
              "<tr>\n",
              "  <th>Time:</th>                 <td>21:32:32</td>     <th>                     </th>     <td> </td>   \n",
              "</tr>\n",
              "<tr>\n",
              "  <th>No. Observations:</th>      <td>   131</td>      <th>                     </th>     <td> </td>   \n",
              "</tr>\n",
              "</table>\n",
              "<table class=\"simpletable\">\n",
              "<tr>\n",
              "   <td></td>     <th>coef</th>     <th>std err</th>      <th>z</th>      <th>P>|z|</th>  <th>[0.025</th>    <th>0.975]</th>  \n",
              "</tr>\n",
              "<tr>\n",
              "  <th>x1</th> <td> 9634.0203</td> <td>  125.500</td> <td>   76.765</td> <td> 0.000</td> <td> 9388.045</td> <td> 9879.996</td>\n",
              "</tr>\n",
              "<tr>\n",
              "  <th>x2</th> <td>    2.8782</td> <td>    0.039</td> <td>   73.614</td> <td> 0.000</td> <td>    2.802</td> <td>    2.955</td>\n",
              "</tr>\n",
              "<tr>\n",
              "  <th>x3</th> <td>   24.3012</td> <td>    0.874</td> <td>   27.798</td> <td> 0.000</td> <td>   22.588</td> <td>   26.015</td>\n",
              "</tr>\n",
              "<tr>\n",
              "  <th>x4</th> <td>    0.0008</td> <td>      nan</td> <td>      nan</td> <td>   nan</td> <td>      nan</td> <td>      nan</td>\n",
              "</tr>\n",
              "</table>"
            ],
            "text/plain": [
              "<class 'statsmodels.iolib.summary.Summary'>\n",
              "\"\"\"\n",
              "                             LinearIVGMM Results                              \n",
              "==============================================================================\n",
              "Dep. Variable:                      y   Hansen J:                        94.49\n",
              "Model:                    LinearIVGMM   Prob (Hansen J):                 0.984\n",
              "Method:                           GMM                                         \n",
              "Date:                Tue, 07 Jun 2022                                         \n",
              "Time:                        21:32:32                                         \n",
              "No. Observations:                 131                                         \n",
              "==============================================================================\n",
              "                 coef    std err          z      P>|z|      [0.025      0.975]\n",
              "------------------------------------------------------------------------------\n",
              "x1          9634.0203    125.500     76.765      0.000    9388.045    9879.996\n",
              "x2             2.8782      0.039     73.614      0.000       2.802       2.955\n",
              "x3            24.3012      0.874     27.798      0.000      22.588      26.015\n",
              "x4             0.0008        nan        nan        nan         nan         nan\n",
              "==============================================================================\n",
              "\"\"\""
            ]
          },
          "execution_count": 389,
          "metadata": {},
          "output_type": "execute_result"
        }
      ],
      "source": [
        "modn = stats.LinearIVGMM(lhs, np.column_stack((gammaterm, lambdaterm)), instrument=instruments).fit()\n",
        "modn.summary()"
      ]
    },
    {
      "cell_type": "markdown",
      "metadata": {},
      "source": [
        "Now we turn on all the $H_{i,j}$ indicators for the perfect collusion model. "
      ]
    },
    {
      "cell_type": "code",
      "execution_count": 393,
      "metadata": {},
      "outputs": [],
      "source": [
        "Hmat = np.ones((N,N))\n",
        "\n",
        "for j in range(N): \n",
        "    if j==0:\n",
        "        lhs[j] = dsdp[j]*prices[j] + Hmat[j,j+1]*prices[j+1]*dspdp[j] \n",
        "        gammaterm[j,:] = dsdp[j]*xmat[j,:] + Hmat[j,j+1]*xmat[j+1,:]*dspdp[j] \n",
        "        lambdaterm[j] = dsdp[j]*quantities[j] + Hmat[j,j+1]*quantities[j+1]*dspdp[j]\n",
        "    elif j==N-1:\n",
        "        lhs[j] = dsdp[j]*prices[j] +  Hmat[j,j-1]*prices[j-1]*dsmdp[j]\n",
        "        gammaterm[j,:] = dsdp[j]*xmat[j,:] +  Hmat[j,j-1]*xmat[j-1,:]*dsmdp[j]\n",
        "        lambdaterm[j] = dsdp[j]*quantities[j] + Hmat[j,j-1]*quantities[j-1]*dsmdp[j]\n",
        "    else:\n",
        "        lhs[j] = dsdp[j]*prices[j] + Hmat[j,j+1]*prices[j+1]*dspdp[j] +  Hmat[j,j-1]*prices[j-1]*dsmdp[j]\n",
        "        gammaterm[j,:] = dsdp[j]*xmat[j,:] + Hmat[j,j+1]*xmat[j+1,:]*dspdp[j] +  Hmat[j,j-1]*xmat[j-1,:]*dsmdp[j]\n",
        "        lambdaterm[j] = dsdp[j]*quantities[j] + Hmat[j,j+1]*quantities[j+1]*dspdp[j] +  Hmat[j,j-1]*quantities[j-1]*dsmdp[j]\n",
        "        \n"
      ]
    },
    {
      "cell_type": "code",
      "execution_count": 394,
      "metadata": {},
      "outputs": [
        {
          "data": {
            "text/html": [
              "<table class=\"simpletable\">\n",
              "<caption>LinearIVGMM Results</caption>\n",
              "<tr>\n",
              "  <th>Dep. Variable:</th>            <td>y</td>        <th>  Hansen J:          </th> <td>   270.6</td>\n",
              "</tr>\n",
              "<tr>\n",
              "  <th>Model:</th>               <td>LinearIVGMM</td>   <th>  Prob (Hansen J):   </th> <td>1.38e-12</td>\n",
              "</tr>\n",
              "<tr>\n",
              "  <th>Method:</th>                  <td>GMM</td>       <th>                     </th>     <td> </td>   \n",
              "</tr>\n",
              "<tr>\n",
              "  <th>Date:</th>             <td>Tue, 07 Jun 2022</td> <th>                     </th>     <td> </td>   \n",
              "</tr>\n",
              "<tr>\n",
              "  <th>Time:</th>                 <td>21:38:33</td>     <th>                     </th>     <td> </td>   \n",
              "</tr>\n",
              "<tr>\n",
              "  <th>No. Observations:</th>      <td>   131</td>      <th>                     </th>     <td> </td>   \n",
              "</tr>\n",
              "</table>\n",
              "<table class=\"simpletable\">\n",
              "<tr>\n",
              "   <td></td>     <th>coef</th>     <th>std err</th>      <th>z</th>      <th>P>|z|</th>  <th>[0.025</th>    <th>0.975]</th>  \n",
              "</tr>\n",
              "<tr>\n",
              "  <th>x1</th> <td>    0.0277</td> <td>    0.005</td> <td>    5.694</td> <td> 0.000</td> <td>    0.018</td> <td>    0.037</td>\n",
              "</tr>\n",
              "<tr>\n",
              "  <th>x2</th> <td>-1.651e-05</td> <td> 7.99e-06</td> <td>   -2.066</td> <td> 0.039</td> <td>-3.22e-05</td> <td>-8.45e-07</td>\n",
              "</tr>\n",
              "<tr>\n",
              "  <th>x3</th> <td>    0.0009</td> <td>    0.000</td> <td>    8.822</td> <td> 0.000</td> <td>    0.001</td> <td>    0.001</td>\n",
              "</tr>\n",
              "<tr>\n",
              "  <th>x4</th> <td>  3.48e-08</td> <td> 1.17e-08</td> <td>    2.978</td> <td> 0.003</td> <td> 1.19e-08</td> <td> 5.77e-08</td>\n",
              "</tr>\n",
              "</table>"
            ],
            "text/plain": [
              "<class 'statsmodels.iolib.summary.Summary'>\n",
              "\"\"\"\n",
              "                             LinearIVGMM Results                              \n",
              "==============================================================================\n",
              "Dep. Variable:                      y   Hansen J:                        270.6\n",
              "Model:                    LinearIVGMM   Prob (Hansen J):              1.38e-12\n",
              "Method:                           GMM                                         \n",
              "Date:                Tue, 07 Jun 2022                                         \n",
              "Time:                        21:38:33                                         \n",
              "No. Observations:                 131                                         \n",
              "==============================================================================\n",
              "                 coef    std err          z      P>|z|      [0.025      0.975]\n",
              "------------------------------------------------------------------------------\n",
              "x1             0.0277      0.005      5.694      0.000       0.018       0.037\n",
              "x2         -1.651e-05   7.99e-06     -2.066      0.039   -3.22e-05   -8.45e-07\n",
              "x3             0.0009      0.000      8.822      0.000       0.001       0.001\n",
              "x4           3.48e-08   1.17e-08      2.978      0.003    1.19e-08    5.77e-08\n",
              "==============================================================================\n",
              "\"\"\""
            ]
          },
          "execution_count": 394,
          "metadata": {},
          "output_type": "execute_result"
        }
      ],
      "source": [
        "modc = stats.LinearIVGMM(lhs, np.column_stack((gammaterm, lambdaterm)), instrument=instruments).fit()\n",
        "modc.summary()"
      ]
    },
    {
      "cell_type": "markdown",
      "metadata": {},
      "source": [
        "## (3) Evaluting model fit\n",
        "\n",
        "Bresnahan (1987) uses "
      ]
    },
    {
      "cell_type": "markdown",
      "metadata": {},
      "source": []
    }
  ],
  "metadata": {
    "colab": {
      "collapsed_sections": [],
      "name": "271C_PSet.ipynb",
      "provenance": []
    },
    "interpreter": {
      "hash": "742265b42063db02f4eb49a6f4e0014cda452827456ff2f2381f20ee469a6d0e"
    },
    "kernelspec": {
      "display_name": "Python 3.9.7 ('base')",
      "language": "python",
      "name": "python3"
    },
    "language_info": {
      "codemirror_mode": {
        "name": "ipython",
        "version": 3
      },
      "file_extension": ".py",
      "mimetype": "text/x-python",
      "name": "python",
      "nbconvert_exporter": "python",
      "pygments_lexer": "ipython3",
      "version": "3.9.7"
    }
  },
  "nbformat": 4,
  "nbformat_minor": 0
}
