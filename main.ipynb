{
 "cells": [
  {
   "cell_type": "code",
   "execution_count": 2,
   "metadata": {},
   "outputs": [],
   "source": [
    "import pandas as pd\n",
    "import numpy as np"
   ]
  },
  {
   "cell_type": "code",
   "execution_count": 30,
   "metadata": {},
   "outputs": [],
   "source": [
    "import statsmodels.sandbox.regression.gmm as stats"
   ]
  },
  {
   "cell_type": "code",
   "execution_count": 12,
   "metadata": {},
   "outputs": [],
   "source": [
    "autodata = pd.read_csv(\"autodata.csv\")\n",
    "autodata = autodata.rename(columns={\"Firm ID (there is a different number for each firm)\": \"Firm ID\"})"
   ]
  },
  {
   "cell_type": "code",
   "execution_count": 31,
   "metadata": {},
   "outputs": [],
   "source": [
    "N = len(autodata)\n",
    "shares = autodata['Quantity'] / sum(autodata['Quantity'])\n",
    "prices = autodata['Price($1000) (list price)']\n",
    "x = autodata[['Air Conditioning', 'Weight of Car', 'Horsepower']]"
   ]
  },
  {
   "cell_type": "code",
   "execution_count": 13,
   "metadata": {},
   "outputs": [
    {
     "data": {
      "text/html": [
       "<div>\n",
       "<style scoped>\n",
       "    .dataframe tbody tr th:only-of-type {\n",
       "        vertical-align: middle;\n",
       "    }\n",
       "\n",
       "    .dataframe tbody tr th {\n",
       "        vertical-align: top;\n",
       "    }\n",
       "\n",
       "    .dataframe thead th {\n",
       "        text-align: right;\n",
       "    }\n",
       "</style>\n",
       "<table border=\"1\" class=\"dataframe\">\n",
       "  <thead>\n",
       "    <tr style=\"text-align: right;\">\n",
       "      <th></th>\n",
       "      <th>Name</th>\n",
       "      <th>Air Conditioning</th>\n",
       "      <th>Price($1000) (list price)</th>\n",
       "      <th>Weight of Car</th>\n",
       "      <th>Horsepower</th>\n",
       "      <th>Quantity</th>\n",
       "      <th>Firm ID</th>\n",
       "    </tr>\n",
       "  </thead>\n",
       "  <tbody>\n",
       "    <tr>\n",
       "      <th>0</th>\n",
       "      <td>ACINTE</td>\n",
       "      <td>0</td>\n",
       "      <td>11950</td>\n",
       "      <td>2549</td>\n",
       "      <td>130</td>\n",
       "      <td>83599</td>\n",
       "      <td>3</td>\n",
       "    </tr>\n",
       "    <tr>\n",
       "      <th>1</th>\n",
       "      <td>ACLEGE</td>\n",
       "      <td>1</td>\n",
       "      <td>24760</td>\n",
       "      <td>3139</td>\n",
       "      <td>160</td>\n",
       "      <td>53666</td>\n",
       "      <td>3</td>\n",
       "    </tr>\n",
       "    <tr>\n",
       "      <th>2</th>\n",
       "      <td>ARSPDR</td>\n",
       "      <td>0</td>\n",
       "      <td>20950</td>\n",
       "      <td>2548</td>\n",
       "      <td>120</td>\n",
       "      <td>1549</td>\n",
       "      <td>20</td>\n",
       "    </tr>\n",
       "    <tr>\n",
       "      <th>3</th>\n",
       "      <td>AD80SE</td>\n",
       "      <td>1</td>\n",
       "      <td>18900</td>\n",
       "      <td>2612</td>\n",
       "      <td>108</td>\n",
       "      <td>4402</td>\n",
       "      <td>7</td>\n",
       "    </tr>\n",
       "    <tr>\n",
       "      <th>4</th>\n",
       "      <td>AD90SE</td>\n",
       "      <td>1</td>\n",
       "      <td>23990</td>\n",
       "      <td>2789</td>\n",
       "      <td>130</td>\n",
       "      <td>3380</td>\n",
       "      <td>7</td>\n",
       "    </tr>\n",
       "    <tr>\n",
       "      <th>...</th>\n",
       "      <td>...</td>\n",
       "      <td>...</td>\n",
       "      <td>...</td>\n",
       "      <td>...</td>\n",
       "      <td>...</td>\n",
       "      <td>...</td>\n",
       "      <td>...</td>\n",
       "    </tr>\n",
       "    <tr>\n",
       "      <th>126</th>\n",
       "      <td>VV740</td>\n",
       "      <td>1</td>\n",
       "      <td>21095</td>\n",
       "      <td>2954</td>\n",
       "      <td>114</td>\n",
       "      <td>46070</td>\n",
       "      <td>6</td>\n",
       "    </tr>\n",
       "    <tr>\n",
       "      <th>127</th>\n",
       "      <td>VV760G</td>\n",
       "      <td>1</td>\n",
       "      <td>33965</td>\n",
       "      <td>3303</td>\n",
       "      <td>144</td>\n",
       "      <td>8627</td>\n",
       "      <td>6</td>\n",
       "    </tr>\n",
       "    <tr>\n",
       "      <th>128</th>\n",
       "      <td>YGGVPL</td>\n",
       "      <td>0</td>\n",
       "      <td>4435</td>\n",
       "      <td>1870</td>\n",
       "      <td>67</td>\n",
       "      <td>6359</td>\n",
       "      <td>23</td>\n",
       "    </tr>\n",
       "    <tr>\n",
       "      <th>129</th>\n",
       "      <td>PS911C</td>\n",
       "      <td>1</td>\n",
       "      <td>58500</td>\n",
       "      <td>3031</td>\n",
       "      <td>247</td>\n",
       "      <td>3650</td>\n",
       "      <td>12</td>\n",
       "    </tr>\n",
       "    <tr>\n",
       "      <th>130</th>\n",
       "      <td>PS944</td>\n",
       "      <td>1</td>\n",
       "      <td>41900</td>\n",
       "      <td>2998</td>\n",
       "      <td>208</td>\n",
       "      <td>2348</td>\n",
       "      <td>12</td>\n",
       "    </tr>\n",
       "  </tbody>\n",
       "</table>\n",
       "<p>131 rows × 7 columns</p>\n",
       "</div>"
      ],
      "text/plain": [
       "       Name  Air Conditioning  Price($1000) (list price)  Weight of Car  \\\n",
       "0    ACINTE                 0                      11950           2549   \n",
       "1    ACLEGE                 1                      24760           3139   \n",
       "2    ARSPDR                 0                      20950           2548   \n",
       "3    AD80SE                 1                      18900           2612   \n",
       "4    AD90SE                 1                      23990           2789   \n",
       "..      ...               ...                        ...            ...   \n",
       "126   VV740                 1                      21095           2954   \n",
       "127  VV760G                 1                      33965           3303   \n",
       "128  YGGVPL                 0                       4435           1870   \n",
       "129  PS911C                 1                      58500           3031   \n",
       "130   PS944                 1                      41900           2998   \n",
       "\n",
       "     Horsepower  Quantity  Firm ID  \n",
       "0           130     83599        3  \n",
       "1           160     53666        3  \n",
       "2           120      1549       20  \n",
       "3           108      4402        7  \n",
       "4           130      3380        7  \n",
       "..          ...       ...      ...  \n",
       "126         114     46070        6  \n",
       "127         144      8627        6  \n",
       "128          67      6359       23  \n",
       "129         247      3650       12  \n",
       "130         208      2348       12  \n",
       "\n",
       "[131 rows x 7 columns]"
      ]
     },
     "execution_count": 13,
     "metadata": {},
     "output_type": "execute_result"
    }
   ],
   "source": [
    "autodata"
   ]
  },
  {
   "cell_type": "code",
   "execution_count": 14,
   "metadata": {},
   "outputs": [
    {
     "data": {
      "text/plain": [
       "20"
      ]
     },
     "execution_count": 14,
     "metadata": {},
     "output_type": "execute_result"
    }
   ],
   "source": [
    "autodata[\"Firm ID\"].nunique()"
   ]
  },
  {
   "cell_type": "code",
   "execution_count": 28,
   "metadata": {},
   "outputs": [],
   "source": [
    "Hmat = np.array([[autodata['Firm ID'][i]==autodata['Firm ID'][j] for i in range(N)] for j in range(N)], np.int32)"
   ]
  },
  {
   "cell_type": "code",
   "execution_count": 34,
   "metadata": {},
   "outputs": [
    {
     "name": "stdout",
     "output_type": "stream",
     "text": [
      "                                    OLS Regression Results                                    \n",
      "==============================================================================================\n",
      "Dep. Variable:     Price($1000) (list price)   R-squared (uncentered):                   0.904\n",
      "Model:                                   OLS   Adj. R-squared (uncentered):              0.901\n",
      "Method:                        Least Squares   F-statistic:                              299.0\n",
      "Date:                       Sat, 04 Jun 2022   Prob (F-statistic):                    1.37e-63\n",
      "Time:                               15:00:02   Log-Likelihood:                         -1342.7\n",
      "No. Observations:                        131   AIC:                                      2693.\n",
      "Df Residuals:                            127   BIC:                                      2705.\n",
      "Df Model:                                  4                                                  \n",
      "Covariance Type:                   nonrobust                                                  \n",
      "==============================================================================\n",
      "                 coef    std err          t      P>|t|      [0.025      0.975]\n",
      "------------------------------------------------------------------------------\n",
      "x1          6021.9479   1655.346      3.638      0.000    2746.317    9297.578\n",
      "x2            -1.5896      1.107     -1.436      0.154      -3.781       0.601\n",
      "x3           164.6692     23.583      6.982      0.000     118.002     211.336\n",
      "x4            -0.0238      0.009     -2.741      0.007      -0.041      -0.007\n",
      "==============================================================================\n",
      "Omnibus:                       76.581   Durbin-Watson:                   1.319\n",
      "Prob(Omnibus):                  0.000   Jarque-Bera (JB):              393.740\n",
      "Skew:                           2.055   Prob(JB):                     3.17e-86\n",
      "Kurtosis:                      10.433   Cond. No.                     2.72e+05\n",
      "==============================================================================\n",
      "\n",
      "Notes:\n",
      "[1] R² is computed without centering (uncentered) since the model does not contain a constant.\n",
      "[2] Standard Errors assume that the covariance matrix of the errors is correctly specified.\n",
      "[3] The condition number is large, 2.72e+05. This might indicate that there are\n",
      "strong multicollinearity or other numerical problems.\n"
     ]
    }
   ],
   "source": [
    "\n",
    "mod = stats.OLS(prices, np.column_stack((x, autodata['Quantity'])))\n",
    "results = mod.fit()\n",
    "print(results.summary())"
   ]
  },
  {
   "cell_type": "code",
   "execution_count": 37,
   "metadata": {},
   "outputs": [],
   "source": [
    "mc = results.predict()"
   ]
  },
  {
   "cell_type": "code",
   "execution_count": 52,
   "metadata": {},
   "outputs": [
    {
     "name": "stdout",
     "output_type": "stream",
     "text": [
      "Y\n",
      "130\n"
     ]
    }
   ],
   "source": [
    "own = np.zeros([N,2])\n",
    "for i in range(N):\n",
    "    if i == 0:\n",
    "        own[i] = [0, autodata['Firm ID'][i]==autodata['Firm ID'][i+1]]\n",
    "    elif i == N-1:\n",
    "        own[i] = [autodata['Firm ID'][i]==autodata['Firm ID'][i-1], 0]\n",
    "    else:\n",
    "        own[i] = [autodata['Firm ID'][i]==autodata['Firm ID'][i-1], autodata['Firm ID'][i]==autodata['Firm ID'][i+1]]"
   ]
  },
  {
   "cell_type": "code",
   "execution_count": null,
   "metadata": {},
   "outputs": [],
   "source": []
  }
 ],
 "metadata": {
  "interpreter": {
   "hash": "742265b42063db02f4eb49a6f4e0014cda452827456ff2f2381f20ee469a6d0e"
  },
  "kernelspec": {
   "display_name": "Python 3.9.7 ('base')",
   "language": "python",
   "name": "python3"
  },
  "language_info": {
   "codemirror_mode": {
    "name": "ipython",
    "version": 3
   },
   "file_extension": ".py",
   "mimetype": "text/x-python",
   "name": "python",
   "nbconvert_exporter": "python",
   "pygments_lexer": "ipython3",
   "version": "3.9.7"
  },
  "orig_nbformat": 4
 },
 "nbformat": 4,
 "nbformat_minor": 2
}
